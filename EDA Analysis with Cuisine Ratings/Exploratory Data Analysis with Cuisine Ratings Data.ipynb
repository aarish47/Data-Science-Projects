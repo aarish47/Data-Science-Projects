{
 "cells": [
  {
   "cell_type": "markdown",
   "metadata": {},
   "source": [
    "# **Restaurant's Cuisine Ratings Dataset / For EDA Analysis**\n",
    "\n",
    "## **Project held by:** Aarish Asif Khan\n",
    "\n",
    "## **Date:** 5/12/2024"
   ]
  },
  {
   "cell_type": "markdown",
   "metadata": {},
   "source": [
    "---"
   ]
  },
  {
   "cell_type": "markdown",
   "metadata": {},
   "source": [
    "# **About the Dataset:**\n",
    "\n",
    "## **Context**\n",
    "There's a story behind every dataset and here's your opportunity to share yours.\n",
    "\n",
    "## **Content**\n",
    "What's inside is more than just rows and columns. Make it easy for others to get started by describing how you acquired the data and what time period it represents, too.\n",
    "\n",
    "## **Acknowledgements**\n",
    "Thanks to @AnirudhKalabande for sharing the data with me, who in turn sharing in the community.\n",
    "\n",
    "## **Inspiration**\n",
    "\n",
    "Some questions can be answered as:\n",
    "* Q: Visualizing the food rating as per their origin in both the genders category\n",
    "* Q: Comparison of services & preference rating etc. etc.\n",
    "* Q: Visualizing on basis of other criteria such as marital status or profession the rating they give."
   ]
  },
  {
   "cell_type": "code",
   "execution_count": 94,
   "metadata": {},
   "outputs": [],
   "source": [
    "# Import libraries\n",
    "import pandas as pd\n",
    "import numpy as np \n",
    "\n",
    "import seaborn as sns\n",
    "import matplotlib.pyplot as plt\n",
    "\n",
    "import sklearn"
   ]
  },
  {
   "cell_type": "code",
   "execution_count": 95,
   "metadata": {},
   "outputs": [],
   "source": [
    "# Load the following dataset\n",
    "dataframe = pd.read_csv(\"./Data/Cuisine_rating.csv\")"
   ]
  },
  {
   "cell_type": "code",
   "execution_count": 96,
   "metadata": {},
   "outputs": [
    {
     "data": {
      "text/html": [
       "<div>\n",
       "<style scoped>\n",
       "    .dataframe tbody tr th:only-of-type {\n",
       "        vertical-align: middle;\n",
       "    }\n",
       "\n",
       "    .dataframe tbody tr th {\n",
       "        vertical-align: top;\n",
       "    }\n",
       "\n",
       "    .dataframe thead th {\n",
       "        text-align: right;\n",
       "    }\n",
       "</style>\n",
       "<table border=\"1\" class=\"dataframe\">\n",
       "  <thead>\n",
       "    <tr style=\"text-align: right;\">\n",
       "      <th></th>\n",
       "      <th>User ID</th>\n",
       "      <th>Area code</th>\n",
       "      <th>Location</th>\n",
       "      <th>Gender</th>\n",
       "      <th>YOB</th>\n",
       "      <th>Marital Status</th>\n",
       "      <th>Activity</th>\n",
       "      <th>Budget</th>\n",
       "      <th>Cuisines</th>\n",
       "      <th>Alcohol</th>\n",
       "      <th>Smoker</th>\n",
       "      <th>Food Rating</th>\n",
       "      <th>Service Rating</th>\n",
       "      <th>Overall Rating</th>\n",
       "      <th>Often A S</th>\n",
       "    </tr>\n",
       "  </thead>\n",
       "  <tbody>\n",
       "    <tr>\n",
       "      <th>0</th>\n",
       "      <td>1</td>\n",
       "      <td>153</td>\n",
       "      <td>Upper East Side,NY</td>\n",
       "      <td>Female</td>\n",
       "      <td>2006</td>\n",
       "      <td>Single</td>\n",
       "      <td>Professional</td>\n",
       "      <td>3</td>\n",
       "      <td>Japanese</td>\n",
       "      <td>Never</td>\n",
       "      <td>Never</td>\n",
       "      <td>5</td>\n",
       "      <td>4</td>\n",
       "      <td>4.5</td>\n",
       "      <td>No</td>\n",
       "    </tr>\n",
       "    <tr>\n",
       "      <th>1</th>\n",
       "      <td>2</td>\n",
       "      <td>123</td>\n",
       "      <td>St. George,NY</td>\n",
       "      <td>Female</td>\n",
       "      <td>1991</td>\n",
       "      <td>Married</td>\n",
       "      <td>Student</td>\n",
       "      <td>3</td>\n",
       "      <td>Indian</td>\n",
       "      <td>Never</td>\n",
       "      <td>Socially</td>\n",
       "      <td>1</td>\n",
       "      <td>1</td>\n",
       "      <td>1.0</td>\n",
       "      <td>No</td>\n",
       "    </tr>\n",
       "    <tr>\n",
       "      <th>2</th>\n",
       "      <td>3</td>\n",
       "      <td>122</td>\n",
       "      <td>Upper West Side,NY</td>\n",
       "      <td>Male</td>\n",
       "      <td>1977</td>\n",
       "      <td>Single</td>\n",
       "      <td>Student</td>\n",
       "      <td>5</td>\n",
       "      <td>Seafood</td>\n",
       "      <td>Often</td>\n",
       "      <td>Often</td>\n",
       "      <td>5</td>\n",
       "      <td>5</td>\n",
       "      <td>5.0</td>\n",
       "      <td>Yes</td>\n",
       "    </tr>\n",
       "    <tr>\n",
       "      <th>3</th>\n",
       "      <td>4</td>\n",
       "      <td>153</td>\n",
       "      <td>Upper East Side,NY</td>\n",
       "      <td>Female</td>\n",
       "      <td>1956</td>\n",
       "      <td>Married</td>\n",
       "      <td>Professional</td>\n",
       "      <td>5</td>\n",
       "      <td>Japanese</td>\n",
       "      <td>Never</td>\n",
       "      <td>Socially</td>\n",
       "      <td>3</td>\n",
       "      <td>1</td>\n",
       "      <td>2.0</td>\n",
       "      <td>No</td>\n",
       "    </tr>\n",
       "    <tr>\n",
       "      <th>4</th>\n",
       "      <td>5</td>\n",
       "      <td>129</td>\n",
       "      <td>Central Park,NY</td>\n",
       "      <td>Male</td>\n",
       "      <td>1997</td>\n",
       "      <td>Single</td>\n",
       "      <td>Student</td>\n",
       "      <td>4</td>\n",
       "      <td>Filipino</td>\n",
       "      <td>Socially</td>\n",
       "      <td>Never</td>\n",
       "      <td>2</td>\n",
       "      <td>4</td>\n",
       "      <td>3.0</td>\n",
       "      <td>No</td>\n",
       "    </tr>\n",
       "  </tbody>\n",
       "</table>\n",
       "</div>"
      ],
      "text/plain": [
       "   User ID  Area code            Location  Gender   YOB Marital Status  \\\n",
       "0        1        153  Upper East Side,NY  Female  2006         Single   \n",
       "1        2        123       St. George,NY  Female  1991        Married   \n",
       "2        3        122  Upper West Side,NY    Male  1977         Single   \n",
       "3        4        153  Upper East Side,NY  Female  1956        Married   \n",
       "4        5        129     Central Park,NY    Male  1997         Single   \n",
       "\n",
       "       Activity  Budget  Cuisines  Alcohol     Smoker  Food Rating  \\\n",
       "0  Professional       3  Japanese     Never     Never            5   \n",
       "1       Student       3    Indian     Never  Socially            1   \n",
       "2       Student       5   Seafood     Often     Often            5   \n",
       "3  Professional       5  Japanese     Never  Socially            3   \n",
       "4       Student       4  Filipino  Socially     Never            2   \n",
       "\n",
       "   Service Rating  Overall Rating Often A S  \n",
       "0               4             4.5        No  \n",
       "1               1             1.0        No  \n",
       "2               5             5.0       Yes  \n",
       "3               1             2.0        No  \n",
       "4               4             3.0        No  "
      ]
     },
     "execution_count": 96,
     "metadata": {},
     "output_type": "execute_result"
    }
   ],
   "source": [
    "# Print 5 rows of the dataset\n",
    "dataframe.head()"
   ]
  },
  {
   "cell_type": "code",
   "execution_count": 97,
   "metadata": {},
   "outputs": [
    {
     "data": {
      "text/plain": [
       "(200, 15)"
      ]
     },
     "execution_count": 97,
     "metadata": {},
     "output_type": "execute_result"
    }
   ],
   "source": [
    "# Check the shape of the dataset\n",
    "dataframe.shape"
   ]
  },
  {
   "cell_type": "markdown",
   "metadata": {},
   "source": [
    "The dataset has 200 rows and 15 columns."
   ]
  },
  {
   "cell_type": "code",
   "execution_count": 98,
   "metadata": {},
   "outputs": [
    {
     "name": "stdout",
     "output_type": "stream",
     "text": [
      "------------------------------------------------------\n",
      "Data Types:\n",
      "------------------------------------------------------\n",
      "User ID             int64\n",
      "Area code           int64\n",
      "Location           object\n",
      "Gender             object\n",
      "YOB                 int64\n",
      "Marital Status     object\n",
      "Activity           object\n",
      "Budget              int64\n",
      "Cuisines           object\n",
      "Alcohol            object\n",
      "Smoker             object\n",
      "Food Rating         int64\n",
      "Service Rating      int64\n",
      "Overall Rating    float64\n",
      "Often A S          object\n",
      "dtype: object\n"
     ]
    }
   ],
   "source": [
    "print(\"------------------------------------------------------\")\n",
    "print(\"Data Types:\")\n",
    "print(\"------------------------------------------------------\")\n",
    "\n",
    "# Check dtypes\n",
    "print(dataframe.dtypes)"
   ]
  },
  {
   "cell_type": "code",
   "execution_count": 99,
   "metadata": {},
   "outputs": [
    {
     "data": {
      "text/plain": [
       "User ID           0\n",
       "Area code         0\n",
       "Location          0\n",
       "Gender            0\n",
       "YOB               0\n",
       "Marital Status    0\n",
       "Activity          0\n",
       "Budget            0\n",
       "Cuisines          0\n",
       "Alcohol           0\n",
       "Smoker            0\n",
       "Food Rating       0\n",
       "Service Rating    0\n",
       "Overall Rating    0\n",
       "Often A S         0\n",
       "dtype: int64"
      ]
     },
     "execution_count": 99,
     "metadata": {},
     "output_type": "execute_result"
    }
   ],
   "source": [
    "# Check Missing values \n",
    "dataframe.isnull().sum()"
   ]
  },
  {
   "cell_type": "code",
   "execution_count": 100,
   "metadata": {},
   "outputs": [
    {
     "data": {
      "text/html": [
       "<div>\n",
       "<style scoped>\n",
       "    .dataframe tbody tr th:only-of-type {\n",
       "        vertical-align: middle;\n",
       "    }\n",
       "\n",
       "    .dataframe tbody tr th {\n",
       "        vertical-align: top;\n",
       "    }\n",
       "\n",
       "    .dataframe thead th {\n",
       "        text-align: right;\n",
       "    }\n",
       "</style>\n",
       "<table border=\"1\" class=\"dataframe\">\n",
       "  <thead>\n",
       "    <tr style=\"text-align: right;\">\n",
       "      <th></th>\n",
       "      <th>Location</th>\n",
       "      <th>Gender</th>\n",
       "      <th>YOB</th>\n",
       "      <th>Marital Status</th>\n",
       "      <th>Activity</th>\n",
       "      <th>Budget</th>\n",
       "      <th>Cuisines</th>\n",
       "      <th>Alcohol</th>\n",
       "      <th>Smoker</th>\n",
       "      <th>Food Rating</th>\n",
       "      <th>Service Rating</th>\n",
       "      <th>Overall Rating</th>\n",
       "      <th>Often A S</th>\n",
       "    </tr>\n",
       "  </thead>\n",
       "  <tbody>\n",
       "    <tr>\n",
       "      <th>0</th>\n",
       "      <td>Upper East Side,NY</td>\n",
       "      <td>Female</td>\n",
       "      <td>2006</td>\n",
       "      <td>Single</td>\n",
       "      <td>Professional</td>\n",
       "      <td>3</td>\n",
       "      <td>Japanese</td>\n",
       "      <td>Never</td>\n",
       "      <td>Never</td>\n",
       "      <td>5</td>\n",
       "      <td>4</td>\n",
       "      <td>4.5</td>\n",
       "      <td>No</td>\n",
       "    </tr>\n",
       "    <tr>\n",
       "      <th>1</th>\n",
       "      <td>St. George,NY</td>\n",
       "      <td>Female</td>\n",
       "      <td>1991</td>\n",
       "      <td>Married</td>\n",
       "      <td>Student</td>\n",
       "      <td>3</td>\n",
       "      <td>Indian</td>\n",
       "      <td>Never</td>\n",
       "      <td>Socially</td>\n",
       "      <td>1</td>\n",
       "      <td>1</td>\n",
       "      <td>1.0</td>\n",
       "      <td>No</td>\n",
       "    </tr>\n",
       "    <tr>\n",
       "      <th>2</th>\n",
       "      <td>Upper West Side,NY</td>\n",
       "      <td>Male</td>\n",
       "      <td>1977</td>\n",
       "      <td>Single</td>\n",
       "      <td>Student</td>\n",
       "      <td>5</td>\n",
       "      <td>Seafood</td>\n",
       "      <td>Often</td>\n",
       "      <td>Often</td>\n",
       "      <td>5</td>\n",
       "      <td>5</td>\n",
       "      <td>5.0</td>\n",
       "      <td>Yes</td>\n",
       "    </tr>\n",
       "    <tr>\n",
       "      <th>3</th>\n",
       "      <td>Upper East Side,NY</td>\n",
       "      <td>Female</td>\n",
       "      <td>1956</td>\n",
       "      <td>Married</td>\n",
       "      <td>Professional</td>\n",
       "      <td>5</td>\n",
       "      <td>Japanese</td>\n",
       "      <td>Never</td>\n",
       "      <td>Socially</td>\n",
       "      <td>3</td>\n",
       "      <td>1</td>\n",
       "      <td>2.0</td>\n",
       "      <td>No</td>\n",
       "    </tr>\n",
       "    <tr>\n",
       "      <th>4</th>\n",
       "      <td>Central Park,NY</td>\n",
       "      <td>Male</td>\n",
       "      <td>1997</td>\n",
       "      <td>Single</td>\n",
       "      <td>Student</td>\n",
       "      <td>4</td>\n",
       "      <td>Filipino</td>\n",
       "      <td>Socially</td>\n",
       "      <td>Never</td>\n",
       "      <td>2</td>\n",
       "      <td>4</td>\n",
       "      <td>3.0</td>\n",
       "      <td>No</td>\n",
       "    </tr>\n",
       "  </tbody>\n",
       "</table>\n",
       "</div>"
      ],
      "text/plain": [
       "             Location  Gender   YOB Marital Status      Activity  Budget  \\\n",
       "0  Upper East Side,NY  Female  2006         Single  Professional       3   \n",
       "1       St. George,NY  Female  1991        Married       Student       3   \n",
       "2  Upper West Side,NY    Male  1977         Single       Student       5   \n",
       "3  Upper East Side,NY  Female  1956        Married  Professional       5   \n",
       "4     Central Park,NY    Male  1997         Single       Student       4   \n",
       "\n",
       "   Cuisines  Alcohol     Smoker  Food Rating  Service Rating  Overall Rating  \\\n",
       "0  Japanese     Never     Never            5               4             4.5   \n",
       "1    Indian     Never  Socially            1               1             1.0   \n",
       "2   Seafood     Often     Often            5               5             5.0   \n",
       "3  Japanese     Never  Socially            3               1             2.0   \n",
       "4  Filipino  Socially     Never            2               4             3.0   \n",
       "\n",
       "  Often A S  \n",
       "0        No  \n",
       "1        No  \n",
       "2       Yes  \n",
       "3        No  \n",
       "4        No  "
      ]
     },
     "execution_count": 100,
     "metadata": {},
     "output_type": "execute_result"
    }
   ],
   "source": [
    "# Remove any unwanted cols\n",
    "dataframe = dataframe.drop([\"User ID\", \"Area code\"], axis=1)\n",
    "\n",
    "# Print 5 rows of the dataset\n",
    "dataframe.head()"
   ]
  },
  {
   "cell_type": "code",
   "execution_count": 101,
   "metadata": {},
   "outputs": [
    {
     "name": "stdout",
     "output_type": "stream",
     "text": [
      "<class 'pandas.core.frame.DataFrame'>\n",
      "RangeIndex: 200 entries, 0 to 199\n",
      "Data columns (total 13 columns):\n",
      " #   Column          Non-Null Count  Dtype  \n",
      "---  ------          --------------  -----  \n",
      " 0   Location        200 non-null    object \n",
      " 1   Gender          200 non-null    object \n",
      " 2   YOB             200 non-null    int64  \n",
      " 3   Marital Status  200 non-null    object \n",
      " 4   Activity        200 non-null    object \n",
      " 5   Budget          200 non-null    int64  \n",
      " 6   Cuisines        200 non-null    object \n",
      " 7   Alcohol         200 non-null    object \n",
      " 8   Smoker          200 non-null    object \n",
      " 9   Food Rating     200 non-null    int64  \n",
      " 10  Service Rating  200 non-null    int64  \n",
      " 11  Overall Rating  200 non-null    float64\n",
      " 12  Often A S       200 non-null    object \n",
      "dtypes: float64(1), int64(4), object(8)\n",
      "memory usage: 20.4+ KB\n"
     ]
    }
   ],
   "source": [
    "# Check data info\n",
    "dataframe.info()"
   ]
  },
  {
   "cell_type": "code",
   "execution_count": 102,
   "metadata": {},
   "outputs": [
    {
     "data": {
      "text/plain": [
       "Location          10\n",
       "Gender             2\n",
       "YOB               46\n",
       "Marital Status     3\n",
       "Activity           2\n",
       "Budget             5\n",
       "Cuisines           7\n",
       "Alcohol            3\n",
       "Smoker             3\n",
       "Food Rating        5\n",
       "Service Rating     5\n",
       "Overall Rating     9\n",
       "Often A S          2\n",
       "dtype: int64"
      ]
     },
     "execution_count": 102,
     "metadata": {},
     "output_type": "execute_result"
    }
   ],
   "source": [
    "# Check for unique values\n",
    "dataframe.nunique()"
   ]
  },
  {
   "cell_type": "code",
   "execution_count": 103,
   "metadata": {},
   "outputs": [
    {
     "data": {
      "text/plain": [
       "79"
      ]
     },
     "execution_count": 103,
     "metadata": {},
     "output_type": "execute_result"
    }
   ],
   "source": [
    "# Check duplicates\n",
    "dataframe.duplicated().sum()"
   ]
  },
  {
   "cell_type": "code",
   "execution_count": 104,
   "metadata": {},
   "outputs": [],
   "source": [
    "# Remove the duplicates\n",
    "dataframe = dataframe.drop_duplicates()"
   ]
  },
  {
   "cell_type": "code",
   "execution_count": 105,
   "metadata": {},
   "outputs": [
    {
     "data": {
      "text/plain": [
       "0"
      ]
     },
     "execution_count": 105,
     "metadata": {},
     "output_type": "execute_result"
    }
   ],
   "source": [
    "dataframe.duplicated().sum()"
   ]
  },
  {
   "cell_type": "code",
   "execution_count": 109,
   "metadata": {},
   "outputs": [
    {
     "data": {
      "text/plain": [
       "Marital Status\n",
       "Divorced    5.0\n",
       "Married     3.0\n",
       "Single      4.0\n",
       "Name: Food Rating, dtype: float64"
      ]
     },
     "execution_count": 109,
     "metadata": {},
     "output_type": "execute_result"
    }
   ],
   "source": [
    "# Group the data to figure out the median for Martial Status\n",
    "martial_status = dataframe.groupby('Marital Status')['Food Rating'].median()\n",
    "martial_status"
   ]
  },
  {
   "cell_type": "code",
   "execution_count": 110,
   "metadata": {},
   "outputs": [
    {
     "data": {
      "text/plain": [
       "<Axes: xlabel='Marital Status'>"
      ]
     },
     "execution_count": 110,
     "metadata": {},
     "output_type": "execute_result"
    },
    {
     "data": {
      "image/png": "[encoded data removed]",
      "text/plain": [
       "<Figure size 640x480 with 1 Axes>"
      ]
     },
     "metadata": {},
     "output_type": "display_data"
    }
   ],
   "source": [
    "martial_status.plot(kind='bar',x='Marital Status')"
   ]
  },
  {
   "cell_type": "code",
   "execution_count": 116,
   "metadata": {},
   "outputs": [
    {
     "data": {
      "image/png": "[encoded data removed]",
      "text/plain": [
       "<Figure size 640x480 with 1 Axes>"
      ]
     },
     "metadata": {},
     "output_type": "display_data"
    }
   ],
   "source": [
    "# Group by 'Cuisines' and calculate the mean of 'Budget'\n",
    "cuisine = dataframe.groupby('Cuisines')['Budget'].mean()\n",
    "\n",
    "# Plot the bar chart\n",
    "cuisine.plot(kind='bar', color='black')\n",
    "plt.xlabel('Cuisines')\n",
    "plt.ylabel('Budget')\n",
    "plt.title('Average Budget by Cuisine')\n",
    "plt.show()"
   ]
  },
  {
   "cell_type": "code",
   "execution_count": 111,
   "metadata": {},
   "outputs": [
    {
     "data": {
      "text/plain": [
       "array(['Japanese', 'Indian', 'Seafood', 'Filipino', 'Italian', 'Chinese',\n",
       "       'French'], dtype=object)"
      ]
     },
     "execution_count": 111,
     "metadata": {},
     "output_type": "execute_result"
    }
   ],
   "source": [
    "# Check classes of Cuisines\n",
    "dataframe[\"Cuisines\"].unique()"
   ]
  },
  {
   "cell_type": "code",
   "execution_count": 119,
   "metadata": {},
   "outputs": [
    {
     "data": {
      "text/plain": [
       "7"
      ]
     },
     "execution_count": 119,
     "metadata": {},
     "output_type": "execute_result"
    }
   ],
   "source": [
    "len(dataframe[\"Cuisines\"].unique())"
   ]
  },
  {
   "cell_type": "markdown",
   "metadata": {},
   "source": [
    "There are total 7 classes of Cuisines"
   ]
  },
  {
   "cell_type": "code",
   "execution_count": 107,
   "metadata": {},
   "outputs": [
    {
     "data": {
      "text/plain": [
       "<Axes: xlabel='Smoker', ylabel='count'>"
      ]
     },
     "execution_count": 107,
     "metadata": {},
     "output_type": "execute_result"
    },
    {
     "data": {
      "image/png": "[encoded data removed]",
      "text/plain": [
       "<Figure size 640x480 with 1 Axes>"
      ]
     },
     "metadata": {},
     "output_type": "display_data"
    }
   ],
   "source": [
    "# Visualization of Smoker\n",
    "sns.countplot(x=\"Smoker\", data=dataframe)"
   ]
  },
  {
   "cell_type": "markdown",
   "metadata": {},
   "source": [
    "From the plot above, we can estimate that around 55 - 60% do not smoke, 70% smoke socially and around 68 - 69% people smoke often."
   ]
  },
  {
   "cell_type": "markdown",
   "metadata": {},
   "source": [
    "# **Assumptions:**\n",
    "\n",
    "1. The dataset has 200 rows\n",
    "2. The dataset has 15 columns\n",
    "3. The dtype of the dataset is mostly of int, float and objects\n",
    "4. The unwanted columns in the dataset are User ID and Area Code\n",
    "5. The dataset has 79 Duplicates\n",
    "6. The dataset does not contain any Missing values\n",
    "7. `Cuisines:` There are 7 classes of Cuisines, Japanese, Indian, Seafood, Filipino, Italian, Chinese and French\n",
    "8. People with a budget around 3.5 and below tend to eat more Filipino and Italian foods\n",
    "9. `Smoker:` Around 55 - 60% do not Smoke, 70% Smoke socially and around 68 - 70% people Smoke often\n",
    "10. `Martial Status:` People divorced are 5.0, Married are 3.0 and Single people are 4.0\n"
   ]
  }
 ],
 "metadata": {
  "kernelspec": {
   "display_name": "ml_env",
   "language": "python",
   "name": "python3"
  },
  "language_info": {
   "codemirror_mode": {
    "name": "ipython",
    "version": 3
   },
   "file_extension": ".py",
   "mimetype": "text/x-python",
   "name": "python",
   "nbconvert_exporter": "python",
   "pygments_lexer": "ipython3",
   "version": "3.9.18"
  }
 },
 "nbformat": 4,
 "nbformat_minor": 2
}
