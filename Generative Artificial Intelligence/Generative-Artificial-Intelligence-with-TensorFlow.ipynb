{
 "cells": [
  {
   "cell_type": "markdown",
   "metadata": {},
   "source": [
    "# **Generative Artificial Intelligence with Tensorflow Library!**\n",
    "\n",
    "## **Project by:** [Aarish Asif Khan](https://github.com/aarish47)\n",
    "\n",
    "## **Date:** 25th March 2024\n",
    "\n",
    "## **Credits to:** [TensorFlow](https://www.tensorflow.org/hub/tutorials/tf_hub_generative_image_module)"
   ]
  },
  {
   "cell_type": "code",
   "execution_count": 1,
   "metadata": {},
   "outputs": [],
   "source": [
    "# Copyright 2018 The TensorFlow Hub Authors. All Rights Reserved.\n",
    "#\n",
    "# Licensed under the Apache License, Version 2.0 (the \"License\");\n",
    "# you may not use this file except in compliance with the License.\n",
    "# You may obtain a copy of the License at\n",
    "#\n",
    "#     http://www.apache.org/licenses/LICENSE-2.0\n",
    "#\n",
    "# Unless required by applicable law or agreed to in writing, software\n",
    "# distributed under the License is distributed on an \"AS IS\" BASIS,\n",
    "# WITHOUT WARRANTIES OR CONDITIONS OF ANY KIND, either express or implied.\n",
    "# See the License for the specific language governing permissions and\n",
    "# limitations under the License.\n",
    "# =============================================================================="
   ]
  },
  {
   "cell_type": "markdown",
   "metadata": {},
   "source": [
    "# **Generate Artificial Faces with CelebA Progressive GAN Model**"
   ]
  },
  {
   "cell_type": "markdown",
   "metadata": {},
   "source": [
    "## **Setup**"
   ]
  },
  {
   "cell_type": "code",
   "execution_count": 6,
   "metadata": {},
   "outputs": [],
   "source": [
    "# Install imageio for creating animations.  \n",
    "# !pip -q install imageio\n",
    "# !pip -q install scikit-image\n",
    "# !pip install git+https://github.com/tensorflow/docs\n",
    "# !pip install tensorflow-hub"
   ]
  },
  {
   "cell_type": "code",
   "execution_count": 3,
   "metadata": {},
   "outputs": [],
   "source": [
    "# Remove warnings\n",
    "import warnings\n",
    "warnings.filterwarnings('ignore')"
   ]
  },
  {
   "cell_type": "code",
   "execution_count": 4,
   "metadata": {},
   "outputs": [
    {
     "name": "stdout",
     "output_type": "stream",
     "text": [
      "WARNING:tensorflow:From c:\\Users\\nawaz\\miniconda3\\envs\\ml_env\\lib\\site-packages\\keras\\src\\losses.py:2976: The name tf.losses.sparse_softmax_cross_entropy is deprecated. Please use tf.compat.v1.losses.sparse_softmax_cross_entropy instead.\n",
      "\n"
     ]
    },
    {
     "ename": "ModuleNotFoundError",
     "evalue": "No module named 'tensorflow_hub'",
     "output_type": "error",
     "traceback": [
      "\u001b[1;31m---------------------------------------------------------------------------\u001b[0m",
      "\u001b[1;31mModuleNotFoundError\u001b[0m                       Traceback (most recent call last)",
      "Cell \u001b[1;32mIn[4], line 11\u001b[0m\n\u001b[0;32m      8\u001b[0m \u001b[38;5;28;01mimport\u001b[39;00m \u001b[38;5;21;01mtensorflow\u001b[39;00m \u001b[38;5;28;01mas\u001b[39;00m \u001b[38;5;21;01mtf\u001b[39;00m\n\u001b[0;32m      9\u001b[0m tf\u001b[38;5;241m.\u001b[39mrandom\u001b[38;5;241m.\u001b[39mset_seed(\u001b[38;5;241m0\u001b[39m)\n\u001b[1;32m---> 11\u001b[0m \u001b[38;5;28;01mimport\u001b[39;00m \u001b[38;5;21;01mtensorflow_hub\u001b[39;00m \u001b[38;5;28;01mas\u001b[39;00m \u001b[38;5;21;01mhub\u001b[39;00m\n\u001b[0;32m     12\u001b[0m \u001b[38;5;28;01mfrom\u001b[39;00m \u001b[38;5;21;01mtensorflow_docs\u001b[39;00m\u001b[38;5;21;01m.\u001b[39;00m\u001b[38;5;21;01mvis\u001b[39;00m \u001b[38;5;28;01mimport\u001b[39;00m embed\n\u001b[0;32m     13\u001b[0m \u001b[38;5;28;01mimport\u001b[39;00m \u001b[38;5;21;01mtime\u001b[39;00m\n",
      "\u001b[1;31mModuleNotFoundError\u001b[0m: No module named 'tensorflow_hub'"
     ]
    }
   ],
   "source": [
    "from absl import logging\n",
    "\n",
    "import imageio\n",
    "import PIL.Image\n",
    "import matplotlib.pyplot as plt\n",
    "import numpy as np\n",
    "\n",
    "import tensorflow as tf\n",
    "tf.random.set_seed(0)\n",
    "\n",
    "import tensorflow_hub as hub\n",
    "from tensorflow_docs.vis import embed\n",
    "import time\n",
    "\n",
    "try:\n",
    "  from google.colab import files\n",
    "except ImportError:\n",
    "  pass\n",
    "\n",
    "from IPython import display\n",
    "from skimage import transform\n",
    "\n",
    "# We could retrieve this value from module.get_input_shapes() if we didn't know\n",
    "# beforehand which module we will be using.\n",
    "latent_dim = 512\n",
    "\n",
    "\n",
    "# Interpolates between two vectors that are non-zero and don't both lie on a\n",
    "# line going through origin. First normalizes v2 to have the same norm as v1. \n",
    "# Then interpolates between the two vectors on the hypersphere.\n",
    "def interpolate_hypersphere(v1, v2, num_steps):\n",
    "  v1_norm = tf.norm(v1)\n",
    "  v2_norm = tf.norm(v2)\n",
    "  v2_normalized = v2 * (v1_norm / v2_norm)\n",
    "\n",
    "  vectors = []\n",
    "  for step in range(num_steps):\n",
    "    interpolated = v1 + (v2_normalized - v1) * step / (num_steps - 1)\n",
    "    interpolated_norm = tf.norm(interpolated)\n",
    "    interpolated_normalized = interpolated * (v1_norm / interpolated_norm)\n",
    "    vectors.append(interpolated_normalized)\n",
    "  return tf.stack(vectors)\n",
    "\n",
    "# Simple way to display an image.\n",
    "def display_image(image):\n",
    "  image = tf.constant(image)\n",
    "  image = tf.image.convert_image_dtype(image, tf.uint8)\n",
    "  return PIL.Image.fromarray(image.numpy())\n",
    "\n",
    "# Given a set of images, show an animation.\n",
    "def animate(images):\n",
    "  images = np.array(images)\n",
    "  converted_images = np.clip(images * 255, 0, 255).astype(np.uint8)\n",
    "  imageio.mimsave('./animation.gif', converted_images)\n",
    "  return embed.embed_file('./animation.gif')\n",
    "\n",
    "logging.set_verbosity(logging.ERROR)"
   ]
  },
  {
   "cell_type": "markdown",
   "metadata": {},
   "source": [
    "26:32 "
   ]
  }
 ],
 "metadata": {
  "kernelspec": {
   "display_name": "ml_env",
   "language": "python",
   "name": "python3"
  },
  "language_info": {
   "codemirror_mode": {
    "name": "ipython",
    "version": 3
   },
   "file_extension": ".py",
   "mimetype": "text/x-python",
   "name": "python",
   "nbconvert_exporter": "python",
   "pygments_lexer": "ipython3",
   "version": "3.9.18"
  }
 },
 "nbformat": 4,
 "nbformat_minor": 2
}
